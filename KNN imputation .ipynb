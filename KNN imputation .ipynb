{
 "cells": [
  {
   "cell_type": "code",
   "execution_count": 2,
   "metadata": {},
   "outputs": [
    {
     "name": "stderr",
     "output_type": "stream",
     "text": [
      "/Users/shreyanshrathore/miniconda3/lib/python3.7/site-packages/seaborn/apionly.py:9: UserWarning: As seaborn no longer sets a default style on import, the seaborn.apionly module is deprecated. It will be removed in a future version.\n",
      "  warnings.warn(msg, UserWarning)\n"
     ]
    }
   ],
   "source": [
    "import numpy as np\n",
    "import pandas as pd\n",
    "import matplotlib\n",
    "import matplotlib.pyplot as plt\n",
    "import statsmodels.api as sm\n",
    "from statsmodels.api import OLS\n",
    "import sklearn as sk\n",
    "from sklearn.decomposition import PCA\n",
    "from sklearn.linear_model import LogisticRegression\n",
    "from sklearn.linear_model import LogisticRegressionCV\n",
    "from sklearn.utils import resample\n",
    "from sklearn.model_selection import cross_val_score\n",
    "from sklearn.metrics import accuracy_score\n",
    "# %matplotlib inline\n",
    "import seaborn.apionly as sns"
   ]
  },
  {
   "cell_type": "code",
   "execution_count": 3,
   "metadata": {},
   "outputs": [
    {
     "name": "stdout",
     "output_type": "stream",
     "text": [
      "The dimensions of the data set are: 1569 observations and 10 variables.\n"
     ]
    },
    {
     "data": {
      "text/html": [
       "<div>\n",
       "<style scoped>\n",
       "    .dataframe tbody tr th:only-of-type {\n",
       "        vertical-align: middle;\n",
       "    }\n",
       "\n",
       "    .dataframe tbody tr th {\n",
       "        vertical-align: top;\n",
       "    }\n",
       "\n",
       "    .dataframe thead th {\n",
       "        text-align: right;\n",
       "    }\n",
       "</style>\n",
       "<table border=\"1\" class=\"dataframe\">\n",
       "  <thead>\n",
       "    <tr style=\"text-align: right;\">\n",
       "      <th></th>\n",
       "      <th>id</th>\n",
       "      <th>health</th>\n",
       "      <th>partyid</th>\n",
       "      <th>age</th>\n",
       "      <th>sex</th>\n",
       "      <th>sexornt</th>\n",
       "      <th>educ</th>\n",
       "      <th>marital</th>\n",
       "      <th>race</th>\n",
       "      <th>income</th>\n",
       "    </tr>\n",
       "  </thead>\n",
       "  <tbody>\n",
       "    <tr>\n",
       "      <th>0</th>\n",
       "      <td>1</td>\n",
       "      <td>good</td>\n",
       "      <td>rep</td>\n",
       "      <td>43.0</td>\n",
       "      <td>male</td>\n",
       "      <td>bisexual/other</td>\n",
       "      <td>14.0</td>\n",
       "      <td>never married</td>\n",
       "      <td>white</td>\n",
       "      <td>NaN</td>\n",
       "    </tr>\n",
       "    <tr>\n",
       "      <th>1</th>\n",
       "      <td>2</td>\n",
       "      <td>excellent</td>\n",
       "      <td>dem</td>\n",
       "      <td>74.0</td>\n",
       "      <td>female</td>\n",
       "      <td>hetero</td>\n",
       "      <td>10.0</td>\n",
       "      <td>no longer married</td>\n",
       "      <td>white</td>\n",
       "      <td>NaN</td>\n",
       "    </tr>\n",
       "    <tr>\n",
       "      <th>2</th>\n",
       "      <td>5</td>\n",
       "      <td>excellent</td>\n",
       "      <td>rep</td>\n",
       "      <td>71.0</td>\n",
       "      <td>male</td>\n",
       "      <td>hetero</td>\n",
       "      <td>18.0</td>\n",
       "      <td>no longer married</td>\n",
       "      <td>black</td>\n",
       "      <td>NaN</td>\n",
       "    </tr>\n",
       "    <tr>\n",
       "      <th>3</th>\n",
       "      <td>6</td>\n",
       "      <td>good</td>\n",
       "      <td>dem</td>\n",
       "      <td>67.0</td>\n",
       "      <td>female</td>\n",
       "      <td>bisexual/other</td>\n",
       "      <td>16.0</td>\n",
       "      <td>no longer married</td>\n",
       "      <td>white</td>\n",
       "      <td>NaN</td>\n",
       "    </tr>\n",
       "    <tr>\n",
       "      <th>4</th>\n",
       "      <td>7</td>\n",
       "      <td>good</td>\n",
       "      <td>dem</td>\n",
       "      <td>59.0</td>\n",
       "      <td>female</td>\n",
       "      <td>bisexual/other</td>\n",
       "      <td>13.0</td>\n",
       "      <td>no longer married</td>\n",
       "      <td>black</td>\n",
       "      <td>18.75</td>\n",
       "    </tr>\n",
       "  </tbody>\n",
       "</table>\n",
       "</div>"
      ],
      "text/plain": [
       "   id     health partyid   age     sex         sexornt  educ  \\\n",
       "0   1       good     rep  43.0    male  bisexual/other  14.0   \n",
       "1   2  excellent     dem  74.0  female          hetero  10.0   \n",
       "2   5  excellent     rep  71.0    male          hetero  18.0   \n",
       "3   6       good     dem  67.0  female  bisexual/other  16.0   \n",
       "4   7       good     dem  59.0  female  bisexual/other  13.0   \n",
       "\n",
       "             marital   race  income  \n",
       "0      never married  white     NaN  \n",
       "1  no longer married  white     NaN  \n",
       "2  no longer married  black     NaN  \n",
       "3  no longer married  white     NaN  \n",
       "4  no longer married  black   18.75  "
      ]
     },
     "execution_count": 3,
     "metadata": {},
     "output_type": "execute_result"
    }
   ],
   "source": [
    "gssdata = pd.read_csv(\"/Users/shreyanshrathore/Desktop/Data Science/2019-CS109A-master/docs/labs/lab07/data/gsshealth18.csv\")\n",
    "\n",
    "print(\"The dimensions of the data set are:\", gssdata.shape[0], \"observations and\", gssdata.shape[1], \"variables.\" )\n",
    "gssdata.head()"
   ]
  },
  {
   "cell_type": "code",
   "execution_count": 4,
   "metadata": {},
   "outputs": [
    {
     "name": "stdout",
     "output_type": "stream",
     "text": [
      "good         771\n",
      "excellent    359\n",
      "fair         355\n",
      "poor          84\n",
      "Name: health, dtype: int64\n",
      "dem      708\n",
      "rep      514\n",
      "other    347\n",
      "Name: partyid, dtype: int64\n",
      "female    872\n",
      "male      697\n",
      "Name: sex, dtype: int64\n",
      "bisexual/other    907\n",
      "hetero            640\n",
      "gay                22\n",
      "Name: sexornt, dtype: int64\n",
      "married              655\n",
      "never married        458\n",
      "no longer married    454\n",
      "Name: marital, dtype: int64\n",
      "white    1137\n",
      "black     259\n",
      "other     173\n",
      "Name: race, dtype: int64\n"
     ]
    }
   ],
   "source": [
    "gssdata.describe()\n",
    "\n",
    "print(gssdata['health'].value_counts())\n",
    "print(gssdata['partyid'].value_counts())\n",
    "print(gssdata['sex'].value_counts())\n",
    "print(gssdata['sexornt'].value_counts())\n",
    "print(gssdata['marital'].value_counts())\n",
    "print(gssdata['race'].value_counts())"
   ]
  },
  {
   "cell_type": "code",
   "execution_count": 5,
   "metadata": {},
   "outputs": [
    {
     "data": {
      "text/plain": [
       "0.05353728489483748"
      ]
     },
     "execution_count": 5,
     "metadata": {},
     "output_type": "execute_result"
    }
   ],
   "source": [
    "gssdata['poorhealth']=1*(gssdata['health']=='poor')\n",
    "gssdata['poorhealth'].mean()"
   ]
  },
  {
   "cell_type": "code",
   "execution_count": 6,
   "metadata": {},
   "outputs": [
    {
     "data": {
      "text/plain": [
       "id              0\n",
       "health          0\n",
       "partyid         0\n",
       "age             2\n",
       "sex             0\n",
       "sexornt         0\n",
       "educ            2\n",
       "marital         2\n",
       "race            0\n",
       "income        661\n",
       "poorhealth      0\n",
       "dtype: int64"
      ]
     },
     "execution_count": 6,
     "metadata": {},
     "output_type": "execute_result"
    }
   ],
   "source": [
    "gssdata.isna().sum()"
   ]
  },
  {
   "cell_type": "code",
   "execution_count": 7,
   "metadata": {},
   "outputs": [
    {
     "name": "stderr",
     "output_type": "stream",
     "text": [
      "/Users/shreyanshrathore/miniconda3/lib/python3.7/site-packages/ipykernel_launcher.py:5: SettingWithCopyWarning: \n",
      "A value is trying to be set on a copy of a slice from a DataFrame.\n",
      "Try using .loc[row_indexer,col_indexer] = value instead\n",
      "\n",
      "See the caveats in the documentation: https://pandas.pydata.org/pandas-docs/stable/user_guide/indexing.html#returning-a-view-versus-a-copy\n",
      "  \"\"\"\n"
     ]
    },
    {
     "data": {
      "text/plain": [
       "age                          2\n",
       "educ                         2\n",
       "female                       0\n",
       "marital_never married        0\n",
       "marital_no longer married    0\n",
       "race_other                   0\n",
       "race_white                   0\n",
       "sexornt_gay                  0\n",
       "sexornt_hetero               0\n",
       "partyid_other                0\n",
       "partyid_rep                  0\n",
       "dtype: int64"
      ]
     },
     "execution_count": 7,
     "metadata": {},
     "output_type": "execute_result"
    }
   ],
   "source": [
    "X = gssdata[['partyid','age','sex','sexornt','educ','marital','race']]\n",
    "\n",
    "#create dummies (lots of ways to do it, two ways will be in the solutions\n",
    "# create dummies 2 different ways\n",
    "X['female'] = 1*(gssdata['sex']==\"female\")\n",
    "dummies = pd.get_dummies(X[['marital','race','sexornt','partyid']],drop_first=True)\n",
    "\n",
    "# add the dummies in via the join command.\n",
    "X = X.join(dummies)\n",
    "\n",
    "# let's drop the redundat variables no longer needed since we created the dummies\n",
    "X = X.drop(['partyid','sex','sexornt','marital','race'],axis=1)\n",
    "\n",
    "# now check the 'nulls'\n",
    "X.isna().sum()"
   ]
  },
  {
   "cell_type": "code",
   "execution_count": 8,
   "metadata": {},
   "outputs": [],
   "source": [
    "X['age']=X['age'].fillna(X['age'].median())\n",
    "\n",
    "# impute the most common education: having a HS degree (13 years)\n",
    "# see histogram for justification\n",
    "X['educ']=X['educ'].fillna(13)"
   ]
  },
  {
   "cell_type": "code",
   "execution_count": 9,
   "metadata": {},
   "outputs": [
    {
     "data": {
      "image/png": "[encoded data removed]",
      "text/plain": [
       "<Figure size 432x288 with 1 Axes>"
      ]
     },
     "metadata": {
      "needs_background": "light"
     },
     "output_type": "display_data"
    }
   ],
   "source": [
    "plt.hist(X['educ']);"
   ]
  },
  {
   "cell_type": "code",
   "execution_count": 10,
   "metadata": {},
   "outputs": [
    {
     "name": "stdout",
     "output_type": "stream",
     "text": [
      "25      50.0\n",
      "1478    65.0\n",
      "Name: age, dtype: float64\n",
      "529     24.0\n",
      "1546    75.0\n",
      "Name: age, dtype: float64\n"
     ]
    }
   ],
   "source": [
    "print(gssdata['age'][pd.isna(gssdata['marital'])])\n",
    "print(gssdata['age'][pd.isna(gssdata['educ'])])"
   ]
  },
  {
   "cell_type": "code",
   "execution_count": 11,
   "metadata": {},
   "outputs": [
    {
     "data": {
      "text/plain": [
       "age                          0\n",
       "educ                         0\n",
       "female                       0\n",
       "marital_never married        0\n",
       "marital_no longer married    0\n",
       "race_other                   0\n",
       "race_white                   0\n",
       "sexornt_gay                  0\n",
       "sexornt_hetero               0\n",
       "partyid_other                0\n",
       "partyid_rep                  0\n",
       "dtype: int64"
      ]
     },
     "execution_count": 11,
     "metadata": {},
     "output_type": "execute_result"
    }
   ],
   "source": [
    "X.isna().sum()"
   ]
  },
  {
   "cell_type": "code",
   "execution_count": 12,
   "metadata": {},
   "outputs": [],
   "source": [
    "from sklearn.model_selection import train_test_split\n",
    "itrain, itest = train_test_split(range(gssdata.shape[0]), train_size=0.70)\n",
    "\n",
    "# Note: the train-test split above is for the INDICES for splitting in case we \n",
    "# want to use them again in the future...we can have an identical split\n",
    "X_train = X.loc[itrain]\n",
    "X_test = X.loc[itest]\n",
    "\n",
    "y_train = gssdata['poorhealth'][itrain]\n",
    "y_test = gssdata['poorhealth'][itest]"
   ]
  },
  {
   "cell_type": "code",
   "execution_count": 13,
   "metadata": {},
   "outputs": [
    {
     "data": {
      "image/png": "[encoded data removed]",
      "text/plain": [
       "<Figure size 432x288 with 1 Axes>"
      ]
     },
     "metadata": {
      "needs_background": "light"
     },
     "output_type": "display_data"
    }
   ],
   "source": [
    "from sklearn.neighbors import KNeighborsClassifier\n",
    "\n",
    "# unregularized Logistic Regression\n",
    "logit = sk.linear_model.LogisticRegression(C=100000)\n",
    "logit.fit(X_train,y_train)\n",
    "\n",
    "# k-NN for k=1, 15, and 25\n",
    "knn1 = KNeighborsClassifier(1)\n",
    "knn1.fit(X_train,y_train)\n",
    "\n",
    "knn15 = KNeighborsClassifier(15)\n",
    "knn15.fit(X_train,y_train)\n",
    "\n",
    "knn25 = KNeighborsClassifier(25)\n",
    "knn25.fit(X_train,y_train)\n",
    "\n",
    "logit.predict_proba(X_train)[:,1],\n",
    "\n",
    "#visualize the predictions via boxplots\n",
    "plt.boxplot([logit.predict_proba(X_train)[:,1],knn1.predict_proba(X_train)[:,1],\n",
    "             knn15.predict_proba(X_train)[:,1],knn25.predict_proba(X_train)[:,1]])\n",
    "plt.legend([\"1=logistic\",\"2=knn1\",\"3=knn15\",\"4=knn25\"]);"
   ]
  },
  {
   "cell_type": "code",
   "execution_count": 14,
   "metadata": {},
   "outputs": [
    {
     "name": "stdout",
     "output_type": "stream",
     "text": [
      "Classification accuracy for logistic were: \n",
      " Train = 0.9453551912568307 , Test = 0.9490445859872612\n",
      "Classification accuracy for knn1 were: \n",
      " Train = 1.0 , Test = 0.9044585987261147\n",
      "Classification accuracy for knn15 were: \n",
      " Train = 0.9453551912568307 , Test = 0.9490445859872612\n",
      "Classification accuracy for knn25 were: \n",
      " Train = 0.9453551912568307 , Test = 0.9490445859872612\n"
     ]
    }
   ],
   "source": [
    "print(\"Classification accuracy for logistic were: \\n Train =\",\n",
    "    logit.score(X_train,y_train),\", Test =\", logit.score(X_test,y_test))\n",
    "print(\"Classification accuracy for knn1 were: \\n Train =\",\n",
    "    knn1.score(X_train,y_train),\", Test =\", knn1.score(X_test,y_test))\n",
    "print(\"Classification accuracy for knn15 were: \\n Train =\",\n",
    "    knn15.score(X_train,y_train),\", Test =\", knn15.score(X_test,y_test))\n",
    "print(\"Classification accuracy for knn25 were: \\n Train =\",\n",
    "    knn25.score(X_train,y_train),\", Test =\", knn25.score(X_test,y_test))"
   ]
  },
  {
   "cell_type": "code",
   "execution_count": 15,
   "metadata": {},
   "outputs": [
    {
     "data": {
      "image/png": "[encoded data removed]",
      "text/plain": [
       "<Figure size 432x288 with 1 Axes>"
      ]
     },
     "metadata": {
      "needs_background": "light"
     },
     "output_type": "display_data"
    }
   ],
   "source": [
    "# We plot them for the logistic and knn15\n",
    "plt.hist(knn15.predict_proba(X_test)[:,1])\n",
    "plt.hist(logit.predict_proba(X_test)[:,1],alpha=0.7);"
   ]
  },
  {
   "cell_type": "code",
   "execution_count": 17,
   "metadata": {},
   "outputs": [
    {
     "name": "stdout",
     "output_type": "stream",
     "text": [
      "[[447   0]\n",
      " [ 24   0]]\n",
      "[[443   4]\n",
      " [ 24   0]]\n"
     ]
    },
    {
     "ename": "TypeError",
     "evalue": "t_repredict() missing 2 required positional arguments: 't' and 'xtest'",
     "output_type": "error",
     "traceback": [
      "\u001b[0;31m---------------------------------------------------------------------------\u001b[0m",
      "\u001b[0;31mTypeError\u001b[0m                                 Traceback (most recent call last)",
      "\u001b[0;32m<ipython-input-17-a46f739d67da>\u001b[0m in \u001b[0;36m<module>\u001b[0;34m\u001b[0m\n\u001b[1;32m     16\u001b[0m \u001b[0;31m#And then looking at smaller threshold values: 0.32 and 0.06\u001b[0m\u001b[0;34m\u001b[0m\u001b[0;34m\u001b[0m\u001b[0;34m\u001b[0m\u001b[0m\n\u001b[1;32m     17\u001b[0m \u001b[0mprint\u001b[0m\u001b[0;34m(\u001b[0m\u001b[0mconfusion_matrix\u001b[0m\u001b[0;34m(\u001b[0m\u001b[0my_test\u001b[0m\u001b[0;34m,\u001b[0m\u001b[0mt_repredict\u001b[0m\u001b[0;34m(\u001b[0m\u001b[0mknn15\u001b[0m\u001b[0;34m,\u001b[0m\u001b[0;36m0.32\u001b[0m\u001b[0;34m,\u001b[0m\u001b[0mX_test\u001b[0m\u001b[0;34m)\u001b[0m\u001b[0;34m)\u001b[0m\u001b[0;34m)\u001b[0m\u001b[0;34m\u001b[0m\u001b[0;34m\u001b[0m\u001b[0m\n\u001b[0;32m---> 18\u001b[0;31m \u001b[0mprint\u001b[0m\u001b[0;34m(\u001b[0m\u001b[0mconfusion_matrix\u001b[0m\u001b[0;34m(\u001b[0m\u001b[0my_test\u001b[0m\u001b[0;34m,\u001b[0m\u001b[0mt_repredict\u001b[0m\u001b[0;34m(\u001b[0m\u001b[0mknn15\u001b[0m\u001b[0;34m)\u001b[0m\u001b[0;34m,\u001b[0m\u001b[0;36m0.06\u001b[0m\u001b[0;34m,\u001b[0m\u001b[0mX_test\u001b[0m\u001b[0;34m)\u001b[0m\u001b[0;34m)\u001b[0m\u001b[0;34m\u001b[0m\u001b[0;34m\u001b[0m\u001b[0m\n\u001b[0m",
      "\u001b[0;31mTypeError\u001b[0m: t_repredict() missing 2 required positional arguments: 't' and 'xtest'"
     ]
    }
   ],
   "source": [
    "from sklearn.metrics import confusion_matrix\n",
    "\n",
    "# this function may help to manually make confusion table from a different threshold\n",
    "def t_repredict(est, t, xtest):\n",
    "    probs = est.predict_proba(xtest)\n",
    "    p0 = probs[:,0]\n",
    "    p1 = probs[:,1]\n",
    "    ypred = (p1 > t)*1\n",
    "    return ypred\n",
    "\n",
    "# Using the logistic model throughout:\n",
    "\n",
    "# Re-calculating the default confusion matrix\n",
    "print(confusion_matrix(y_test,t_repredict(knn15,0.5,X_test)))\n",
    "\n",
    "#And then looking at smaller threshold values: 0.32 and 0.06\n",
    "print(confusion_matrix(y_test,t_repredict(knn15,0.32,X_test)))\n",
    "print(confusion_matrix(y_test,t_repredict(knn15),0.06,X_test))"
   ]
  },
  {
   "cell_type": "code",
   "execution_count": 18,
   "metadata": {},
   "outputs": [
    {
     "data": {
      "image/png": "[encoded data removed]",
      "text/plain": [
       "<Figure size 432x288 with 1 Axes>"
      ]
     },
     "metadata": {
      "needs_background": "light"
     },
     "output_type": "display_data"
    }
   ],
   "source": [
    "from sklearn.metrics import roc_curve, auc\n",
    "\n",
    "# a function to make 'pretty' ROC curves for this model\n",
    "def make_roc(name, clf, ytest, xtest, ax=None, labe=5, proba=True, skip=0):\n",
    "    initial=False\n",
    "    if not ax:\n",
    "        ax=plt.gca()\n",
    "        initial=True\n",
    "    if proba:#for stuff like logistic regression\n",
    "        fpr, tpr, thresholds=roc_curve(ytest, clf.predict_proba(xtest)[:,1])\n",
    "    else:#for stuff like SVM\n",
    "        fpr, tpr, thresholds=roc_curve(ytest, clf.decision_function(xtest))\n",
    "    roc_auc = auc(fpr, tpr)\n",
    "    if skip:\n",
    "        l=fpr.shape[0]\n",
    "        ax.plot(fpr[0:l:skip], tpr[0:l:skip], '.-', alpha=0.3, label='ROC curve for %s (area = %0.2f)' % (name, roc_auc))\n",
    "    else:\n",
    "        ax.plot(fpr, tpr, '.-', alpha=0.3, label='ROC curve for %s (area = %0.2f)' % (name, roc_auc))\n",
    "    label_kwargs = {}\n",
    "    label_kwargs['bbox'] = dict(\n",
    "        boxstyle='round,pad=0.3', alpha=0.2,\n",
    "    )\n",
    "    if labe!=None:\n",
    "        for k in range(0, fpr.shape[0],labe):\n",
    "            #from https://gist.github.com/podshumok/c1d1c9394335d86255b8\n",
    "            threshold = str(np.round(thresholds[k], 2))\n",
    "            ax.annotate(threshold, (fpr[k], tpr[k]), **label_kwargs)\n",
    "    if initial:\n",
    "        ax.plot([0, 1], [0, 1], 'k--')\n",
    "        ax.set_xlim([0.0, 1.0])\n",
    "        ax.set_ylim([0.0, 1.05])\n",
    "        ax.set_xlabel('False Positive Rate')\n",
    "        ax.set_ylabel('True Positive Rate')\n",
    "        ax.set_title('ROC')\n",
    "    ax.legend(loc=\"lower right\")\n",
    "    return ax\n",
    "\n",
    "\n",
    "sns.set_context(\"poster\")\n",
    "make_roc(\"Logistic\", logit, y_test, X_test, ax=None, labe=20, proba=True, skip=1);"
   ]
  },
  {
   "cell_type": "code",
   "execution_count": null,
   "metadata": {},
   "outputs": [],
   "source": []
  }
 ],
 "metadata": {
  "kernelspec": {
   "display_name": "Python 3",
   "language": "python",
   "name": "python3"
  },
  "language_info": {
   "codemirror_mode": {
    "name": "ipython",
    "version": 3
   },
   "file_extension": ".py",
   "mimetype": "text/x-python",
   "name": "python",
   "nbconvert_exporter": "python",
   "pygments_lexer": "ipython3",
   "version": "3.7.4"
  }
 },
 "nbformat": 4,
 "nbformat_minor": 4
}
